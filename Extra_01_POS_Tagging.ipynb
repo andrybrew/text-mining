{
  "nbformat": 4,
  "nbformat_minor": 0,
  "metadata": {
    "kernelspec": {
      "display_name": "Python 3",
      "language": "python",
      "name": "python3"
    },
    "language_info": {
      "codemirror_mode": {
        "name": "ipython",
        "version": 3
      },
      "file_extension": ".py",
      "mimetype": "text/x-python",
      "name": "python",
      "nbconvert_exporter": "python",
      "pygments_lexer": "ipython3",
      "version": "3.5.6"
    },
    "colab": {
      "name": "Extra 01 - POS Tagging.ipynb",
      "provenance": [],
      "include_colab_link": true
    }
  },
  "cells": [
    {
      "cell_type": "markdown",
      "metadata": {
        "id": "view-in-github",
        "colab_type": "text"
      },
      "source": [
        "<a href=\"https://colab.research.google.com/github/andrybrew/text-mining/blob/master/Extra_01_POS_Tagging.ipynb\" target=\"_parent\"><img src=\"https://colab.research.google.com/assets/colab-badge.svg\" alt=\"Open In Colab\"/></a>"
      ]
    },
    {
      "cell_type": "markdown",
      "metadata": {
        "id": "4FEEQm7sHyh-",
        "colab_type": "text"
      },
      "source": [
        "# POS Tagging"
      ]
    },
    {
      "cell_type": "code",
      "metadata": {
        "id": "2UANLz62HyiT",
        "colab_type": "code",
        "colab": {}
      },
      "source": [
        "#Release: 1.1907.1601"
      ],
      "execution_count": null,
      "outputs": []
    },
    {
      "cell_type": "code",
      "metadata": {
        "id": "xigXgKLPHyi4",
        "colab_type": "code",
        "colab": {}
      },
      "source": [
        "import nltk\n",
        "nltk.download('averaged_perceptron_tagger')\n",
        "nltk.download('tagsets')\n",
        "nltk.download('stopwords')\n",
        "nltk.download('punkt')"
      ],
      "execution_count": null,
      "outputs": []
    },
    {
      "cell_type": "code",
      "metadata": {
        "id": "1wqC7jHNHyjU",
        "colab_type": "code",
        "colab": {}
      },
      "source": [
        "sentence = \"Paul Pogba scored a late penalty\"\n",
        "token = nltk.word_tokenize(sentence)\n",
        "token"
      ],
      "execution_count": null,
      "outputs": []
    },
    {
      "cell_type": "code",
      "metadata": {
        "id": "Ixc8SSSJHyjw",
        "colab_type": "code",
        "colab": {}
      },
      "source": [
        "nltk.pos_tag(token)"
      ],
      "execution_count": null,
      "outputs": []
    },
    {
      "cell_type": "code",
      "metadata": {
        "id": "uj6EwwaDHykK",
        "colab_type": "code",
        "colab": {}
      },
      "source": [
        "nltk.help.upenn_tagset(\"NNP\")"
      ],
      "execution_count": null,
      "outputs": []
    },
    {
      "cell_type": "code",
      "metadata": {
        "id": "Pfrxw1FaHykf",
        "colab_type": "code",
        "colab": {}
      },
      "source": [
        "nltk.help.upenn_tagset(\"VBD\")"
      ],
      "execution_count": null,
      "outputs": []
    },
    {
      "cell_type": "code",
      "metadata": {
        "id": "Kv0BE5gCHykw",
        "colab_type": "code",
        "colab": {}
      },
      "source": [
        "nltk.help.upenn_tagset(\"DT\")"
      ],
      "execution_count": null,
      "outputs": []
    },
    {
      "cell_type": "code",
      "metadata": {
        "id": "dE0j0yQuHylD",
        "colab_type": "code",
        "colab": {}
      },
      "source": [
        "nltk.help.upenn_tagset(\"JJ\")"
      ],
      "execution_count": null,
      "outputs": []
    },
    {
      "cell_type": "code",
      "metadata": {
        "id": "f6Ix16TWHylb",
        "colab_type": "code",
        "colab": {}
      },
      "source": [
        "nltk.help.upenn_tagset(\"NN\")"
      ],
      "execution_count": null,
      "outputs": []
    },
    {
      "cell_type": "code",
      "metadata": {
        "id": "coAzm-abHyl3",
        "colab_type": "code",
        "colab": {}
      },
      "source": [
        "#Define your grammar using regular expressions\n",
        "grammar = 'NP: {<DT>?<JJ>*<NN>}'"
      ],
      "execution_count": null,
      "outputs": []
    },
    {
      "cell_type": "code",
      "metadata": {
        "id": "H-YZKQqcHymg",
        "colab_type": "code",
        "colab": {}
      },
      "source": [
        "chunkParser = nltk.RegexpParser(grammar)"
      ],
      "execution_count": null,
      "outputs": []
    },
    {
      "cell_type": "code",
      "metadata": {
        "id": "CqVAMc-wHym9",
        "colab_type": "code",
        "colab": {}
      },
      "source": [
        "tagged = nltk.pos_tag(token)"
      ],
      "execution_count": null,
      "outputs": []
    },
    {
      "cell_type": "code",
      "metadata": {
        "id": "MVoCwsTeHync",
        "colab_type": "code",
        "colab": {}
      },
      "source": [
        "tagged"
      ],
      "execution_count": null,
      "outputs": []
    },
    {
      "cell_type": "code",
      "metadata": {
        "id": "Dh6xOEMsHyn1",
        "colab_type": "code",
        "colab": {}
      },
      "source": [
        "tree = chunkParser.parse(tagged)"
      ],
      "execution_count": null,
      "outputs": []
    },
    {
      "cell_type": "code",
      "metadata": {
        "id": "cDZXqXcPHyoT",
        "colab_type": "code",
        "colab": {}
      },
      "source": [
        "for subtree in tree.subtrees():\n",
        "    print(subtree)"
      ],
      "execution_count": null,
      "outputs": []
    },
    {
      "cell_type": "code",
      "metadata": {
        "id": "nRm6y3LuHyop",
        "colab_type": "code",
        "colab": {}
      },
      "source": [
        "#tree.draw()"
      ],
      "execution_count": null,
      "outputs": []
    },
    {
      "cell_type": "code",
      "metadata": {
        "id": "JR_9zQJNHypO",
        "colab_type": "code",
        "colab": {}
      },
      "source": [
        "from nltk.chunk import conlltags2tree, tree2conlltags\n",
        "from pprint import pprint\n",
        "\n",
        "iob_tagged = tree2conlltags(tree)\n",
        "pprint(iob_tagged)"
      ],
      "execution_count": null,
      "outputs": []
    },
    {
      "cell_type": "code",
      "metadata": {
        "id": "pCbWErh6Hypv",
        "colab_type": "code",
        "colab": {}
      },
      "source": [
        "nltk.download('maxent_ne_chunker')\n",
        "nltk.download('words')\n",
        "ne_tree = nltk.ne_chunk(nltk.pos_tag(nltk.word_tokenize(sentence)))\n",
        "print(ne_tree)"
      ],
      "execution_count": null,
      "outputs": []
    },
    {
      "cell_type": "code",
      "metadata": {
        "id": "V0f7HcT7HyqD",
        "colab_type": "code",
        "colab": {}
      },
      "source": [
        ""
      ],
      "execution_count": null,
      "outputs": []
    }
  ]
}