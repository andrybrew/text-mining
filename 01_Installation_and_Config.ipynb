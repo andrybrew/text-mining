{
  "nbformat": 4,
  "nbformat_minor": 0,
  "metadata": {
    "kernelspec": {
      "display_name": "Python 3",
      "language": "python",
      "name": "python3"
    },
    "language_info": {
      "codemirror_mode": {
        "name": "ipython",
        "version": 3
      },
      "file_extension": ".py",
      "mimetype": "text/x-python",
      "name": "python",
      "nbconvert_exporter": "python",
      "pygments_lexer": "ipython3",
      "version": "3.5.6"
    },
    "colab": {
      "name": "01 - Installation and Config.ipynb",
      "provenance": [],
      "collapsed_sections": [],
      "include_colab_link": true
    }
  },
  "cells": [
    {
      "cell_type": "markdown",
      "metadata": {
        "id": "view-in-github",
        "colab_type": "text"
      },
      "source": [
        "<a href=\"https://colab.research.google.com/github/andrybrew/text-mining/blob/master/01_Installation_and_Config.ipynb\" target=\"_parent\"><img src=\"https://colab.research.google.com/assets/colab-badge.svg\" alt=\"Open In Colab\"/></a>"
      ]
    },
    {
      "cell_type": "markdown",
      "metadata": {
        "id": "teY6XECRXFVT",
        "colab_type": "text"
      },
      "source": [
        "# Lab 01 - Installation and Config\n",
        "\n"
      ]
    },
    {
      "cell_type": "code",
      "metadata": {
        "id": "9R5QJxz2XFVe",
        "colab_type": "code",
        "colab": {}
      },
      "source": [
        "#Release: 1.1909.0901"
      ],
      "execution_count": null,
      "outputs": []
    },
    {
      "cell_type": "markdown",
      "metadata": {
        "id": "S2EOVaRZXFVu",
        "colab_type": "text"
      },
      "source": [
        "#### Step 05 - Check Package Version"
      ]
    },
    {
      "cell_type": "code",
      "metadata": {
        "id": "9H21ArGEXFVw",
        "colab_type": "code",
        "colab": {}
      },
      "source": [
        "import pkg_resources"
      ],
      "execution_count": null,
      "outputs": []
    },
    {
      "cell_type": "code",
      "metadata": {
        "id": "ZhNhgsvGXFV7",
        "colab_type": "code",
        "colab": {}
      },
      "source": [
        "dists = [d for d in pkg_resources.working_set] \n",
        "for i in dists:\n",
        "    print(i)"
      ],
      "execution_count": null,
      "outputs": []
    },
    {
      "cell_type": "markdown",
      "metadata": {
        "id": "XvnTBGdMdX_P",
        "colab_type": "text"
      },
      "source": [
        "-\n",
        " \n",
        "  \n",
        "**Download Punctuation**\n"
      ]
    },
    {
      "cell_type": "code",
      "metadata": {
        "id": "0iRMQSRpdCHc",
        "colab_type": "code",
        "colab": {}
      },
      "source": [
        "nltk.download('punkt')"
      ],
      "execution_count": null,
      "outputs": []
    },
    {
      "cell_type": "code",
      "metadata": {
        "id": "5Z8RB6uueL4B",
        "colab_type": "code",
        "colab": {}
      },
      "source": [
        "nltk.download('stopwords')"
      ],
      "execution_count": null,
      "outputs": []
    },
    {
      "cell_type": "markdown",
      "metadata": {
        "id": "GrWTuPfydyIN",
        "colab_type": "text"
      },
      "source": [
        "**Install Sastrawi library**"
      ]
    },
    {
      "cell_type": "code",
      "metadata": {
        "id": "ovjaWLesd7Mv",
        "colab_type": "code",
        "colab": {}
      },
      "source": [
        "!pip install sastrawi"
      ],
      "execution_count": null,
      "outputs": []
    },
    {
      "cell_type": "code",
      "metadata": {
        "id": "PMIL9w4yQ7TE",
        "colab_type": "code",
        "colab": {}
      },
      "source": [
        "# test"
      ],
      "execution_count": null,
      "outputs": []
    },
    {
      "cell_type": "code",
      "metadata": {
        "id": "QA_JzTkLRBr7",
        "colab_type": "code",
        "colab": {}
      },
      "source": [
        "print (\"helo world\")"
      ],
      "execution_count": null,
      "outputs": []
    }
  ]
}